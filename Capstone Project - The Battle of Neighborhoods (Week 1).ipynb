{
 "cells": [
  {
   "cell_type": "markdown",
   "metadata": {},
   "source": [
    "# Capstone Project - The Battle of the Neighborhoods\n",
    "## Coffee Industry in Medellín, Colombia\n",
    "### Applied Data Science Capstone by IBM/Coursera"
   ]
  },
  {
   "cell_type": "markdown",
   "metadata": {},
   "source": [
    "## Introduction: Business Problem <a name=\"introduction\"></a>"
   ]
  },
  {
   "cell_type": "markdown",
   "metadata": {},
   "source": [
    "Colombia has a 11.5 million bags of coffee as average production by year, the third largest exporter in the planet (1. Brazil, 2. Vietnam) and one of the most visited destination for coffee lovers. The diversity of his geographical conditions is ideal for growing a large variety of beans. The coffee industry in Medellín has become more modern and more coffee specialists and independents cafes have appeared in the Medellín Coffee scene, sharing that scene with the traditional **\"tinto\"**, it is not the best coffee, but is a big part of coffee culture in Medellín.\n",
    "\n",
    "In this project we will try to find an optimal location for a coffee shop. This report will be targeted to stakeholders interested in opening a **Cofee shop** or **Café** in **Medellín**, Colombia. We will try to detect where is located the most quantity of venues related with coffee, coffee shops, coffee pets or \"cafés\". We will find the distribution of cafes throughout the Medellín city both, by borough and by neighbourhood.\n",
    "We will use data science to generate the best place to get a cofee shop in Medellín."
   ]
  },
  {
   "cell_type": "markdown",
   "metadata": {},
   "source": [
    "## Data <a name=\"data\"></a>"
   ]
  },
  {
   "cell_type": "markdown",
   "metadata": {},
   "source": [
    "Initially we need to create a dataframe that contains neighborhoods, boroughs and location (latitude, longitude).\n",
    "\n",
    "With this geojson file https://opendata.arcgis.com/datasets/c844f0fd764f41b2a808d8747457de8a_4.geojson, that can be found in \"Open data\" a website of the Alcaldía de Medellín and using this webpage https://satellite-map.gosur.com/en/ll=6.230166081931358,-75.54311677878525&z=12.23069539645634&t=satellitemanually that have geographical coordinates in Medellín I added to the initial dataframe the coordinates of each neighbourhood.\n",
    "\n",
    "After appropiate cleaning (eliminate columns and nulls), obtaining a wanted dataframe to get a general vision of Medellín and their neighborhoods. We need to get information about cofee shops, then pick up the zone where locates most of the cofee shops.\n",
    "\n",
    "Using FourSquare to asset data and applying folium for visualizing a specific zone where are located the cofees.  \n",
    "Based on definition of our problem, factors that will influence our decission are:\n",
    "* number of existing cofees in the neighborhood.\n",
    "* Location of existing cofees in the zone."
   ]
  }
 ],
 "metadata": {
  "kernelspec": {
   "display_name": "Python 3",
   "language": "python",
   "name": "python3"
  },
  "language_info": {
   "codemirror_mode": {
    "name": "ipython",
    "version": 3
   },
   "file_extension": ".py",
   "mimetype": "text/x-python",
   "name": "python",
   "nbconvert_exporter": "python",
   "pygments_lexer": "ipython3",
   "version": "3.8.3"
  }
 },
 "nbformat": 4,
 "nbformat_minor": 4
}
